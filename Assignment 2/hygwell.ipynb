{
  "cells": [
    {
      "cell_type": "markdown",
      "metadata": {},
      "source": [
        "## Data Acquistion "
      ]
    },
    {
      "cell_type": "code",
      "execution_count": 7,
      "metadata": {
        "id": "-nchnA7gZ9RG"
      },
      "outputs": [],
      "source": [
        "import pandas as pd\n",
        "import numpy as np\n",
        "import scipy.stats as stats\n",
        "import matplotlib.pyplot as plt"
      ]
    },
    {
      "cell_type": "code",
      "execution_count": 8,
      "metadata": {
        "id": "w-N17D6baI5A"
      },
      "outputs": [],
      "source": [
        "data = pd.read_csv('traffic.csv')"
      ]
    },
    {
      "cell_type": "code",
      "execution_count": 9,
      "metadata": {
        "colab": {
          "base_uri": "https://localhost:8080/",
          "height": 206
        },
        "id": "aSlngy46aNZ6",
        "outputId": "df5915dd-83c1-4263-b727-c827c541d6af"
      },
      "outputs": [
        {
          "data": {
            "text/html": [
              "<div>\n",
              "<style scoped>\n",
              "    .dataframe tbody tr th:only-of-type {\n",
              "        vertical-align: middle;\n",
              "    }\n",
              "\n",
              "    .dataframe tbody tr th {\n",
              "        vertical-align: top;\n",
              "    }\n",
              "\n",
              "    .dataframe thead th {\n",
              "        text-align: right;\n",
              "    }\n",
              "</style>\n",
              "<table border=\"1\" class=\"dataframe\">\n",
              "  <thead>\n",
              "    <tr style=\"text-align: right;\">\n",
              "      <th></th>\n",
              "      <th>event</th>\n",
              "      <th>date</th>\n",
              "      <th>country</th>\n",
              "      <th>city</th>\n",
              "      <th>artist</th>\n",
              "      <th>album</th>\n",
              "      <th>track</th>\n",
              "      <th>isrc</th>\n",
              "      <th>linkid</th>\n",
              "    </tr>\n",
              "  </thead>\n",
              "  <tbody>\n",
              "    <tr>\n",
              "      <th>0</th>\n",
              "      <td>click</td>\n",
              "      <td>2021-08-21</td>\n",
              "      <td>Saudi Arabia</td>\n",
              "      <td>Jeddah</td>\n",
              "      <td>Tesher</td>\n",
              "      <td>Jalebi Baby</td>\n",
              "      <td>Jalebi Baby</td>\n",
              "      <td>QZNWQ2070741</td>\n",
              "      <td>2d896d31-97b6-4869-967b-1c5fb9cd4bb8</td>\n",
              "    </tr>\n",
              "    <tr>\n",
              "      <th>1</th>\n",
              "      <td>click</td>\n",
              "      <td>2021-08-21</td>\n",
              "      <td>Saudi Arabia</td>\n",
              "      <td>Jeddah</td>\n",
              "      <td>Tesher</td>\n",
              "      <td>Jalebi Baby</td>\n",
              "      <td>Jalebi Baby</td>\n",
              "      <td>QZNWQ2070741</td>\n",
              "      <td>2d896d31-97b6-4869-967b-1c5fb9cd4bb8</td>\n",
              "    </tr>\n",
              "    <tr>\n",
              "      <th>2</th>\n",
              "      <td>click</td>\n",
              "      <td>2021-08-21</td>\n",
              "      <td>India</td>\n",
              "      <td>Ludhiana</td>\n",
              "      <td>Reyanna Maria</td>\n",
              "      <td>So Pretty</td>\n",
              "      <td>So Pretty</td>\n",
              "      <td>USUM72100871</td>\n",
              "      <td>23199824-9cf5-4b98-942a-34965c3b0cc2</td>\n",
              "    </tr>\n",
              "    <tr>\n",
              "      <th>3</th>\n",
              "      <td>click</td>\n",
              "      <td>2021-08-21</td>\n",
              "      <td>France</td>\n",
              "      <td>Unknown</td>\n",
              "      <td>Simone &amp; Simaria, Sebastian Yatra</td>\n",
              "      <td>No Llores Más</td>\n",
              "      <td>No Llores Más</td>\n",
              "      <td>BRUM72003904</td>\n",
              "      <td>35573248-4e49-47c7-af80-08a960fa74cd</td>\n",
              "    </tr>\n",
              "    <tr>\n",
              "      <th>4</th>\n",
              "      <td>click</td>\n",
              "      <td>2021-08-21</td>\n",
              "      <td>Maldives</td>\n",
              "      <td>Malé</td>\n",
              "      <td>Tesher</td>\n",
              "      <td>Jalebi Baby</td>\n",
              "      <td>Jalebi Baby</td>\n",
              "      <td>QZNWQ2070741</td>\n",
              "      <td>2d896d31-97b6-4869-967b-1c5fb9cd4bb8</td>\n",
              "    </tr>\n",
              "  </tbody>\n",
              "</table>\n",
              "</div>"
            ],
            "text/plain": [
              "   event        date       country      city  \\\n",
              "0  click  2021-08-21  Saudi Arabia    Jeddah   \n",
              "1  click  2021-08-21  Saudi Arabia    Jeddah   \n",
              "2  click  2021-08-21         India  Ludhiana   \n",
              "3  click  2021-08-21        France   Unknown   \n",
              "4  click  2021-08-21      Maldives      Malé   \n",
              "\n",
              "                              artist          album          track  \\\n",
              "0                             Tesher    Jalebi Baby    Jalebi Baby   \n",
              "1                             Tesher    Jalebi Baby    Jalebi Baby   \n",
              "2                      Reyanna Maria      So Pretty      So Pretty   \n",
              "3  Simone & Simaria, Sebastian Yatra  No Llores Más  No Llores Más   \n",
              "4                             Tesher    Jalebi Baby    Jalebi Baby   \n",
              "\n",
              "           isrc                                linkid  \n",
              "0  QZNWQ2070741  2d896d31-97b6-4869-967b-1c5fb9cd4bb8  \n",
              "1  QZNWQ2070741  2d896d31-97b6-4869-967b-1c5fb9cd4bb8  \n",
              "2  USUM72100871  23199824-9cf5-4b98-942a-34965c3b0cc2  \n",
              "3  BRUM72003904  35573248-4e49-47c7-af80-08a960fa74cd  \n",
              "4  QZNWQ2070741  2d896d31-97b6-4869-967b-1c5fb9cd4bb8  "
            ]
          },
          "execution_count": 9,
          "metadata": {},
          "output_type": "execute_result"
        }
      ],
      "source": [
        "data.head()"
      ]
    },
    {
      "cell_type": "code",
      "execution_count": 10,
      "metadata": {
        "colab": {
          "base_uri": "https://localhost:8080/",
          "height": 366
        },
        "id": "l_jkUOFnaO2u",
        "outputId": "562eba53-367d-4e97-d015-5ba798186f9f"
      },
      "outputs": [
        {
          "data": {
            "text/plain": [
              "event         0\n",
              "date          0\n",
              "country      11\n",
              "city         11\n",
              "artist       37\n",
              "album         5\n",
              "track         5\n",
              "isrc       7121\n",
              "linkid        0\n",
              "dtype: int64"
            ]
          },
          "execution_count": 10,
          "metadata": {},
          "output_type": "execute_result"
        }
      ],
      "source": [
        "data.isnull().sum()"
      ]
    },
    {
      "cell_type": "code",
      "execution_count": 11,
      "metadata": {
        "colab": {
          "base_uri": "https://localhost:8080/",
          "height": 175
        },
        "id": "l1m-6y9kaUg_",
        "outputId": "dbe5c56f-00ce-4346-8a89-8bd182b5f799"
      },
      "outputs": [
        {
          "data": {
            "text/html": [
              "<div>\n",
              "<style scoped>\n",
              "    .dataframe tbody tr th:only-of-type {\n",
              "        vertical-align: middle;\n",
              "    }\n",
              "\n",
              "    .dataframe tbody tr th {\n",
              "        vertical-align: top;\n",
              "    }\n",
              "\n",
              "    .dataframe thead th {\n",
              "        text-align: right;\n",
              "    }\n",
              "</style>\n",
              "<table border=\"1\" class=\"dataframe\">\n",
              "  <thead>\n",
              "    <tr style=\"text-align: right;\">\n",
              "      <th></th>\n",
              "      <th>event</th>\n",
              "      <th>date</th>\n",
              "      <th>country</th>\n",
              "      <th>city</th>\n",
              "      <th>artist</th>\n",
              "      <th>album</th>\n",
              "      <th>track</th>\n",
              "      <th>isrc</th>\n",
              "      <th>linkid</th>\n",
              "    </tr>\n",
              "  </thead>\n",
              "  <tbody>\n",
              "    <tr>\n",
              "      <th>count</th>\n",
              "      <td>226278</td>\n",
              "      <td>226278</td>\n",
              "      <td>226267</td>\n",
              "      <td>226267</td>\n",
              "      <td>226241</td>\n",
              "      <td>226273</td>\n",
              "      <td>226273</td>\n",
              "      <td>219157</td>\n",
              "      <td>226278</td>\n",
              "    </tr>\n",
              "    <tr>\n",
              "      <th>unique</th>\n",
              "      <td>3</td>\n",
              "      <td>7</td>\n",
              "      <td>211</td>\n",
              "      <td>11993</td>\n",
              "      <td>2419</td>\n",
              "      <td>3254</td>\n",
              "      <td>3562</td>\n",
              "      <td>709</td>\n",
              "      <td>3839</td>\n",
              "    </tr>\n",
              "    <tr>\n",
              "      <th>top</th>\n",
              "      <td>pageview</td>\n",
              "      <td>2021-08-19</td>\n",
              "      <td>Saudi Arabia</td>\n",
              "      <td>Jeddah</td>\n",
              "      <td>Tesher</td>\n",
              "      <td>Jalebi Baby</td>\n",
              "      <td>Jalebi Baby</td>\n",
              "      <td>QZNWQ2070741</td>\n",
              "      <td>2d896d31-97b6-4869-967b-1c5fb9cd4bb8</td>\n",
              "    </tr>\n",
              "    <tr>\n",
              "      <th>freq</th>\n",
              "      <td>142015</td>\n",
              "      <td>35361</td>\n",
              "      <td>47334</td>\n",
              "      <td>22791</td>\n",
              "      <td>40841</td>\n",
              "      <td>40841</td>\n",
              "      <td>40841</td>\n",
              "      <td>40841</td>\n",
              "      <td>40841</td>\n",
              "    </tr>\n",
              "  </tbody>\n",
              "</table>\n",
              "</div>"
            ],
            "text/plain": [
              "           event        date       country    city  artist        album  \\\n",
              "count     226278      226278        226267  226267  226241       226273   \n",
              "unique         3           7           211   11993    2419         3254   \n",
              "top     pageview  2021-08-19  Saudi Arabia  Jeddah  Tesher  Jalebi Baby   \n",
              "freq      142015       35361         47334   22791   40841        40841   \n",
              "\n",
              "              track          isrc                                linkid  \n",
              "count        226273        219157                                226278  \n",
              "unique         3562           709                                  3839  \n",
              "top     Jalebi Baby  QZNWQ2070741  2d896d31-97b6-4869-967b-1c5fb9cd4bb8  \n",
              "freq          40841         40841                                 40841  "
            ]
          },
          "execution_count": 11,
          "metadata": {},
          "output_type": "execute_result"
        }
      ],
      "source": [
        "data.describe()"
      ]
    },
    {
      "cell_type": "markdown",
      "metadata": {
        "id": "ZZ6G-xlVcg8m"
      },
      "source": [
        "## **1. Total and Daily Pageview Events**"
      ]
    },
    {
      "cell_type": "code",
      "execution_count": 12,
      "metadata": {
        "colab": {
          "base_uri": "https://localhost:8080/"
        },
        "id": "l6VcjFrZa4D-",
        "outputId": "c819ee06-3200-4aef-be0f-66ca7456bcae"
      },
      "outputs": [
        {
          "data": {
            "text/plain": [
              "226278"
            ]
          },
          "execution_count": 12,
          "metadata": {},
          "output_type": "execute_result"
        }
      ],
      "source": [
        "data['event'].count()"
      ]
    },
    {
      "cell_type": "code",
      "execution_count": 13,
      "metadata": {
        "colab": {
          "base_uri": "https://localhost:8080/"
        },
        "id": "kga0LEInbIVv",
        "outputId": "81236350-c55b-4f42-ac06-a466976640d7"
      },
      "outputs": [
        {
          "data": {
            "text/plain": [
              "array(['click', 'preview', 'pageview'], dtype=object)"
            ]
          },
          "execution_count": 13,
          "metadata": {},
          "output_type": "execute_result"
        }
      ],
      "source": [
        "data['event'].unique()"
      ]
    },
    {
      "cell_type": "markdown",
      "metadata": {
        "id": "KPqwjtf5cxnt"
      },
      "source": [
        "### **How many total pageview events did the links in the dataset receive during the entire period?**"
      ]
    },
    {
      "cell_type": "code",
      "execution_count": 14,
      "metadata": {
        "colab": {
          "base_uri": "https://localhost:8080/"
        },
        "id": "A7b2cEmRbfet",
        "outputId": "8d952f31-cbbb-4601-8363-6e860d85638f"
      },
      "outputs": [
        {
          "name": "stdout",
          "output_type": "stream",
          "text": [
            "142015\n"
          ]
        }
      ],
      "source": [
        "pageview_count = data['event'].value_counts()['pageview']\n",
        "print(pageview_count)"
      ]
    },
    {
      "cell_type": "markdown",
      "metadata": {
        "id": "uSL5y5uzdJcJ"
      },
      "source": [
        "### **What is the average number of pageview events per day?**"
      ]
    },
    {
      "cell_type": "code",
      "execution_count": 15,
      "metadata": {
        "colab": {
          "base_uri": "https://localhost:8080/",
          "height": 175
        },
        "id": "Qi7jcFzret9U",
        "outputId": "415f0fc2-8e7e-4f8b-8b19-924c0285d792"
      },
      "outputs": [
        {
          "data": {
            "text/html": [
              "<div>\n",
              "<style scoped>\n",
              "    .dataframe tbody tr th:only-of-type {\n",
              "        vertical-align: middle;\n",
              "    }\n",
              "\n",
              "    .dataframe tbody tr th {\n",
              "        vertical-align: top;\n",
              "    }\n",
              "\n",
              "    .dataframe thead th {\n",
              "        text-align: right;\n",
              "    }\n",
              "</style>\n",
              "<table border=\"1\" class=\"dataframe\">\n",
              "  <thead>\n",
              "    <tr style=\"text-align: right;\">\n",
              "      <th></th>\n",
              "      <th>event</th>\n",
              "      <th>date</th>\n",
              "      <th>country</th>\n",
              "      <th>city</th>\n",
              "      <th>artist</th>\n",
              "      <th>album</th>\n",
              "      <th>track</th>\n",
              "      <th>isrc</th>\n",
              "      <th>linkid</th>\n",
              "    </tr>\n",
              "  </thead>\n",
              "  <tbody>\n",
              "    <tr>\n",
              "      <th>33827</th>\n",
              "      <td>click</td>\n",
              "      <td>2021-08-22</td>\n",
              "      <td>United States</td>\n",
              "      <td>Chicago</td>\n",
              "      <td>Luci4</td>\n",
              "      <td>Kurxxed Emeraldz</td>\n",
              "      <td>Kurxxed Emeraldz</td>\n",
              "      <td>USAT22103307</td>\n",
              "      <td>6a664635-961f-4a51-9451-d5d95c3e5861</td>\n",
              "    </tr>\n",
              "    <tr>\n",
              "      <th>69114</th>\n",
              "      <td>preview</td>\n",
              "      <td>2021-08-25</td>\n",
              "      <td>Germany</td>\n",
              "      <td>Marktredwitz</td>\n",
              "      <td>Olivia Rodrigo</td>\n",
              "      <td>SOUR</td>\n",
              "      <td>good 4 u</td>\n",
              "      <td>USUG12101245</td>\n",
              "      <td>a4a6c5d9-eb71-4987-9e37-762aa9fc740b</td>\n",
              "    </tr>\n",
              "    <tr>\n",
              "      <th>80949</th>\n",
              "      <td>preview</td>\n",
              "      <td>2021-08-23</td>\n",
              "      <td>India</td>\n",
              "      <td>Mumbai</td>\n",
              "      <td>Tundra Beats</td>\n",
              "      <td>Beautiful Day</td>\n",
              "      <td>Beautiful Day</td>\n",
              "      <td>QZHN92194591</td>\n",
              "      <td>e849515b-929d-44c8-a505-e7622f1827e9</td>\n",
              "    </tr>\n",
              "    <tr>\n",
              "      <th>140140</th>\n",
              "      <td>pageview</td>\n",
              "      <td>2021-08-20</td>\n",
              "      <td>Netherlands</td>\n",
              "      <td>Stad aan 't Haringvliet</td>\n",
              "      <td>DMNDS, Strange Fruits Music, Fallen Roses, Luj...</td>\n",
              "      <td>Calabria (feat. Lujavo &amp; Nito-Onna)</td>\n",
              "      <td>Calabria (feat. Lujavo &amp; Nito-Onna)</td>\n",
              "      <td>GBSMU9833211</td>\n",
              "      <td>681d888a-59ce-4acb-b7c5-95dab0c063d9</td>\n",
              "    </tr>\n",
              "  </tbody>\n",
              "</table>\n",
              "</div>"
            ],
            "text/plain": [
              "           event        date        country                     city  \\\n",
              "33827      click  2021-08-22  United States                  Chicago   \n",
              "69114    preview  2021-08-25        Germany             Marktredwitz   \n",
              "80949    preview  2021-08-23          India                   Mumbai   \n",
              "140140  pageview  2021-08-20    Netherlands  Stad aan 't Haringvliet   \n",
              "\n",
              "                                                   artist  \\\n",
              "33827                                               Luci4   \n",
              "69114                                      Olivia Rodrigo   \n",
              "80949                                        Tundra Beats   \n",
              "140140  DMNDS, Strange Fruits Music, Fallen Roses, Luj...   \n",
              "\n",
              "                                      album  \\\n",
              "33827                      Kurxxed Emeraldz   \n",
              "69114                                  SOUR   \n",
              "80949                         Beautiful Day   \n",
              "140140  Calabria (feat. Lujavo & Nito-Onna)   \n",
              "\n",
              "                                      track          isrc  \\\n",
              "33827                      Kurxxed Emeraldz  USAT22103307   \n",
              "69114                              good 4 u  USUG12101245   \n",
              "80949                         Beautiful Day  QZHN92194591   \n",
              "140140  Calabria (feat. Lujavo & Nito-Onna)  GBSMU9833211   \n",
              "\n",
              "                                      linkid  \n",
              "33827   6a664635-961f-4a51-9451-d5d95c3e5861  \n",
              "69114   a4a6c5d9-eb71-4987-9e37-762aa9fc740b  \n",
              "80949   e849515b-929d-44c8-a505-e7622f1827e9  \n",
              "140140  681d888a-59ce-4acb-b7c5-95dab0c063d9  "
            ]
          },
          "execution_count": 15,
          "metadata": {},
          "output_type": "execute_result"
        }
      ],
      "source": [
        "data.sample(4)"
      ]
    },
    {
      "cell_type": "code",
      "execution_count": 16,
      "metadata": {
        "colab": {
          "base_uri": "https://localhost:8080/"
        },
        "id": "QHLxWve9cHFM",
        "outputId": "5a7111f9-9f99-4b5d-e454-7dde55417119"
      },
      "outputs": [
        {
          "name": "stdout",
          "output_type": "stream",
          "text": [
            "Average pageview events per day: 20287.85714285714\n"
          ]
        }
      ],
      "source": [
        "# Group by date and count pageview events\n",
        "pageview_by_date = data[data['event'] == 'pageview'].groupby('date')['event'].count()\n",
        "\n",
        "# Calculate the average\n",
        "average_pageviews_per_day = pageview_by_date.mean()\n",
        "\n",
        "print(f\"Average pageview events per day: {average_pageviews_per_day}\")\n"
      ]
    },
    {
      "cell_type": "markdown",
      "metadata": {
        "id": "b8EcYARKdQnR"
      },
      "source": [
        "## **2. Analysis of Other Events**"
      ]
    },
    {
      "cell_type": "markdown",
      "metadata": {
        "id": "qgBDaA3fdQzL"
      },
      "source": [
        "### **What is the total count and distribution of other recorded events in the dataset**"
      ]
    },
    {
      "cell_type": "code",
      "execution_count": 17,
      "metadata": {
        "colab": {
          "base_uri": "https://localhost:8080/"
        },
        "id": "lQnFNGLmfRLC",
        "outputId": "e2462f2e-a14a-4dc4-e8a4-74beee47ffc0"
      },
      "outputs": [
        {
          "name": "stdout",
          "output_type": "stream",
          "text": [
            "Total Event Counts pageview    142015\n",
            "click        55732\n",
            "preview      28531\n",
            "Name: event, dtype: int64\n",
            "\n",
            "Event Distribtions : pageview    62.761294\n",
            "click       24.629880\n",
            "preview     12.608826\n",
            "Name: event, dtype: float64\n"
          ]
        }
      ],
      "source": [
        "# Get the count of each event type\n",
        "event_counts = data['event'].value_counts()\n",
        "print('Total Event Counts',event_counts)\n",
        "print()\n",
        "\n",
        "# Calculate the distribution of each event\n",
        "event_distribution = event_counts / len(data) * 100\n",
        "print('Event Distribtions :',event_distribution)"
      ]
    },
    {
      "cell_type": "markdown",
      "metadata": {
        "id": "1NFEq77MdQ7U"
      },
      "source": [
        "## **3. Geographical Distribution**"
      ]
    },
    {
      "cell_type": "markdown",
      "metadata": {
        "id": "oNu1_PAVdREG"
      },
      "source": [
        "### **Which Countries contributed to the pageviews?**"
      ]
    },
    {
      "cell_type": "code",
      "execution_count": 18,
      "metadata": {
        "colab": {
          "base_uri": "https://localhost:8080/",
          "height": 206
        },
        "id": "Uid4JTz-g8in",
        "outputId": "0314c2ba-30f9-494e-d9fc-7497e9e94ba5"
      },
      "outputs": [
        {
          "data": {
            "text/html": [
              "<div>\n",
              "<style scoped>\n",
              "    .dataframe tbody tr th:only-of-type {\n",
              "        vertical-align: middle;\n",
              "    }\n",
              "\n",
              "    .dataframe tbody tr th {\n",
              "        vertical-align: top;\n",
              "    }\n",
              "\n",
              "    .dataframe thead th {\n",
              "        text-align: right;\n",
              "    }\n",
              "</style>\n",
              "<table border=\"1\" class=\"dataframe\">\n",
              "  <thead>\n",
              "    <tr style=\"text-align: right;\">\n",
              "      <th></th>\n",
              "      <th>event</th>\n",
              "      <th>date</th>\n",
              "      <th>country</th>\n",
              "      <th>city</th>\n",
              "      <th>artist</th>\n",
              "      <th>album</th>\n",
              "      <th>track</th>\n",
              "      <th>isrc</th>\n",
              "      <th>linkid</th>\n",
              "    </tr>\n",
              "  </thead>\n",
              "  <tbody>\n",
              "    <tr>\n",
              "      <th>71605</th>\n",
              "      <td>preview</td>\n",
              "      <td>2021-08-20</td>\n",
              "      <td>United Arab Emirates</td>\n",
              "      <td>Dubai</td>\n",
              "      <td>Groove Delight</td>\n",
              "      <td>San Andreas</td>\n",
              "      <td>San Andreas - Radio Edit</td>\n",
              "      <td>ES71G1633735</td>\n",
              "      <td>5df02edc-daea-47f0-ac73-0ca9441dfae9</td>\n",
              "    </tr>\n",
              "    <tr>\n",
              "      <th>190685</th>\n",
              "      <td>pageview</td>\n",
              "      <td>2021-08-22</td>\n",
              "      <td>India</td>\n",
              "      <td>Mysore</td>\n",
              "      <td>Thaman S, Armaan Malik, Shreya Ghoshal</td>\n",
              "      <td>Yuvarathnaa (Kannada) (Original Motion Picture...</td>\n",
              "      <td>Neenaade Naa</td>\n",
              "      <td>IND292000868</td>\n",
              "      <td>a82495d3-5a38-4010-894f-c64fa3b9c6ef</td>\n",
              "    </tr>\n",
              "    <tr>\n",
              "      <th>198565</th>\n",
              "      <td>pageview</td>\n",
              "      <td>2021-08-25</td>\n",
              "      <td>Australia</td>\n",
              "      <td>Sydney</td>\n",
              "      <td>50 Cent, Olivia</td>\n",
              "      <td>The Massacre</td>\n",
              "      <td>Candy Shop</td>\n",
              "      <td>USIR10500072</td>\n",
              "      <td>97105aff-3e40-4c2e-bfeb-563b55e8f5dd</td>\n",
              "    </tr>\n",
              "    <tr>\n",
              "      <th>26741</th>\n",
              "      <td>click</td>\n",
              "      <td>2021-08-20</td>\n",
              "      <td>Australia</td>\n",
              "      <td>Perth</td>\n",
              "      <td>Vitamin A</td>\n",
              "      <td>Happy Birthday</td>\n",
              "      <td>Happy Birthday</td>\n",
              "      <td>US3DF1612162</td>\n",
              "      <td>f563adc4-d7c6-4d70-93d0-06bab552f642</td>\n",
              "    </tr>\n",
              "    <tr>\n",
              "      <th>152136</th>\n",
              "      <td>pageview</td>\n",
              "      <td>2021-08-21</td>\n",
              "      <td>United States</td>\n",
              "      <td>Port Saint Lucie</td>\n",
              "      <td>Billie Eilish</td>\n",
              "      <td>Lost Cause</td>\n",
              "      <td>Lost Cause</td>\n",
              "      <td>USUM72105929</td>\n",
              "      <td>33fbbe3c-c497-446e-a849-f9fc29b60701</td>\n",
              "    </tr>\n",
              "  </tbody>\n",
              "</table>\n",
              "</div>"
            ],
            "text/plain": [
              "           event        date               country              city  \\\n",
              "71605    preview  2021-08-20  United Arab Emirates             Dubai   \n",
              "190685  pageview  2021-08-22                 India            Mysore   \n",
              "198565  pageview  2021-08-25             Australia            Sydney   \n",
              "26741      click  2021-08-20             Australia             Perth   \n",
              "152136  pageview  2021-08-21         United States  Port Saint Lucie   \n",
              "\n",
              "                                        artist  \\\n",
              "71605                           Groove Delight   \n",
              "190685  Thaman S, Armaan Malik, Shreya Ghoshal   \n",
              "198565                         50 Cent, Olivia   \n",
              "26741                                Vitamin A   \n",
              "152136                           Billie Eilish   \n",
              "\n",
              "                                                    album  \\\n",
              "71605                                         San Andreas   \n",
              "190685  Yuvarathnaa (Kannada) (Original Motion Picture...   \n",
              "198565                                       The Massacre   \n",
              "26741                                      Happy Birthday   \n",
              "152136                                         Lost Cause   \n",
              "\n",
              "                           track          isrc  \\\n",
              "71605   San Andreas - Radio Edit  ES71G1633735   \n",
              "190685              Neenaade Naa  IND292000868   \n",
              "198565                Candy Shop  USIR10500072   \n",
              "26741             Happy Birthday  US3DF1612162   \n",
              "152136                Lost Cause  USUM72105929   \n",
              "\n",
              "                                      linkid  \n",
              "71605   5df02edc-daea-47f0-ac73-0ca9441dfae9  \n",
              "190685  a82495d3-5a38-4010-894f-c64fa3b9c6ef  \n",
              "198565  97105aff-3e40-4c2e-bfeb-563b55e8f5dd  \n",
              "26741   f563adc4-d7c6-4d70-93d0-06bab552f642  \n",
              "152136  33fbbe3c-c497-446e-a849-f9fc29b60701  "
            ]
          },
          "execution_count": 18,
          "metadata": {},
          "output_type": "execute_result"
        }
      ],
      "source": [
        "data.sample(5)"
      ]
    },
    {
      "cell_type": "code",
      "execution_count": 19,
      "metadata": {
        "colab": {
          "base_uri": "https://localhost:8080/"
        },
        "id": "GSbAjG6Sg0G2",
        "outputId": "6c23198b-3111-4dd9-d0dd-59fb061dd60d"
      },
      "outputs": [
        {
          "name": "stdout",
          "output_type": "stream",
          "text": [
            "Saudi Arabia         28873\n",
            "India                27286\n",
            "United States        20839\n",
            "France                9674\n",
            "Iraq                  4897\n",
            "                     ...  \n",
            "Wallis and Futuna        1\n",
            "Solomon Islands          1\n",
            "Guinea-Bissau            1\n",
            "Lesotho                  1\n",
            "Saint Martin             1\n",
            "Name: country, Length: 211, dtype: int64\n"
          ]
        }
      ],
      "source": [
        "pageview = data['event'] == 'pageview'\n",
        "countries_pageview = data[pageview]['country'].value_counts()\n",
        "print(countries_pageview)"
      ]
    },
    {
      "cell_type": "markdown",
      "metadata": {
        "id": "-fwAJ9fvdwHL"
      },
      "source": [
        "## **4. Click-Through Rate (CTR) Analysis:**"
      ]
    },
    {
      "cell_type": "code",
      "execution_count": 20,
      "metadata": {
        "colab": {
          "base_uri": "https://localhost:8080/",
          "height": 293
        },
        "id": "RwF5eobhiLwy",
        "outputId": "d02c90f4-7228-4469-8de0-e7e030c9167c"
      },
      "outputs": [
        {
          "data": {
            "text/html": [
              "<div>\n",
              "<style scoped>\n",
              "    .dataframe tbody tr th:only-of-type {\n",
              "        vertical-align: middle;\n",
              "    }\n",
              "\n",
              "    .dataframe tbody tr th {\n",
              "        vertical-align: top;\n",
              "    }\n",
              "\n",
              "    .dataframe thead th {\n",
              "        text-align: right;\n",
              "    }\n",
              "</style>\n",
              "<table border=\"1\" class=\"dataframe\">\n",
              "  <thead>\n",
              "    <tr style=\"text-align: right;\">\n",
              "      <th></th>\n",
              "      <th>event</th>\n",
              "      <th>date</th>\n",
              "      <th>country</th>\n",
              "      <th>city</th>\n",
              "      <th>artist</th>\n",
              "      <th>album</th>\n",
              "      <th>track</th>\n",
              "      <th>isrc</th>\n",
              "      <th>linkid</th>\n",
              "    </tr>\n",
              "  </thead>\n",
              "  <tbody>\n",
              "    <tr>\n",
              "      <th>83934</th>\n",
              "      <td>preview</td>\n",
              "      <td>2021-08-24</td>\n",
              "      <td>Saudi Arabia</td>\n",
              "      <td>Jeddah</td>\n",
              "      <td>Adrian Jonathan, Cody Martinez</td>\n",
              "      <td>Worship Instrumental</td>\n",
              "      <td>Worship Instrumental - Instrumental</td>\n",
              "      <td>QZFZ61950642</td>\n",
              "      <td>4071219f-48fb-4752-ac99-f699137d4929</td>\n",
              "    </tr>\n",
              "    <tr>\n",
              "      <th>49369</th>\n",
              "      <td>click</td>\n",
              "      <td>2021-08-24</td>\n",
              "      <td>Saudi Arabia</td>\n",
              "      <td>Medina</td>\n",
              "      <td>Chelsea Cutler</td>\n",
              "      <td>You Can Have It</td>\n",
              "      <td>You Can Have It</td>\n",
              "      <td>USUG12103653</td>\n",
              "      <td>f0a8e55f-e00b-45c9-bcbc-1e364b3cc544</td>\n",
              "    </tr>\n",
              "    <tr>\n",
              "      <th>122923</th>\n",
              "      <td>pageview</td>\n",
              "      <td>2021-08-25</td>\n",
              "      <td>Kuwait</td>\n",
              "      <td>Kuwait City</td>\n",
              "      <td>50 Cent, Olivia</td>\n",
              "      <td>The Massacre</td>\n",
              "      <td>Candy Shop</td>\n",
              "      <td>USIR10500072</td>\n",
              "      <td>97105aff-3e40-4c2e-bfeb-563b55e8f5dd</td>\n",
              "    </tr>\n",
              "    <tr>\n",
              "      <th>84432</th>\n",
              "      <td>pageview</td>\n",
              "      <td>2021-08-19</td>\n",
              "      <td>France</td>\n",
              "      <td>Paris</td>\n",
              "      <td>Saucy Santana</td>\n",
              "      <td>Here We Go</td>\n",
              "      <td>Here We Go</td>\n",
              "      <td>QZ5FA2150131</td>\n",
              "      <td>f9829d35-cc38-420e-b206-0d53d84d117a</td>\n",
              "    </tr>\n",
              "    <tr>\n",
              "      <th>177341</th>\n",
              "      <td>pageview</td>\n",
              "      <td>2021-08-23</td>\n",
              "      <td>Bangladesh</td>\n",
              "      <td>Dhaka</td>\n",
              "      <td>Reyanna Maria</td>\n",
              "      <td>So Pretty</td>\n",
              "      <td>So Pretty</td>\n",
              "      <td>USUM72100871</td>\n",
              "      <td>23199824-9cf5-4b98-942a-34965c3b0cc2</td>\n",
              "    </tr>\n",
              "  </tbody>\n",
              "</table>\n",
              "</div>"
            ],
            "text/plain": [
              "           event        date       country         city  \\\n",
              "83934    preview  2021-08-24  Saudi Arabia       Jeddah   \n",
              "49369      click  2021-08-24  Saudi Arabia       Medina   \n",
              "122923  pageview  2021-08-25        Kuwait  Kuwait City   \n",
              "84432   pageview  2021-08-19        France        Paris   \n",
              "177341  pageview  2021-08-23    Bangladesh        Dhaka   \n",
              "\n",
              "                                artist                 album  \\\n",
              "83934   Adrian Jonathan, Cody Martinez  Worship Instrumental   \n",
              "49369                   Chelsea Cutler       You Can Have It   \n",
              "122923                 50 Cent, Olivia          The Massacre   \n",
              "84432                    Saucy Santana            Here We Go   \n",
              "177341                   Reyanna Maria             So Pretty   \n",
              "\n",
              "                                      track          isrc  \\\n",
              "83934   Worship Instrumental - Instrumental  QZFZ61950642   \n",
              "49369                       You Can Have It  USUG12103653   \n",
              "122923                           Candy Shop  USIR10500072   \n",
              "84432                            Here We Go  QZ5FA2150131   \n",
              "177341                            So Pretty  USUM72100871   \n",
              "\n",
              "                                      linkid  \n",
              "83934   4071219f-48fb-4752-ac99-f699137d4929  \n",
              "49369   f0a8e55f-e00b-45c9-bcbc-1e364b3cc544  \n",
              "122923  97105aff-3e40-4c2e-bfeb-563b55e8f5dd  \n",
              "84432   f9829d35-cc38-420e-b206-0d53d84d117a  \n",
              "177341  23199824-9cf5-4b98-942a-34965c3b0cc2  "
            ]
          },
          "execution_count": 20,
          "metadata": {},
          "output_type": "execute_result"
        }
      ],
      "source": [
        "data.sample(5)"
      ]
    },
    {
      "cell_type": "markdown",
      "metadata": {
        "id": "f6w9GtuydwTn"
      },
      "source": [
        "### **What is the overall click-through rate (CTR) calculated as clicks/pageviews?**"
      ]
    },
    {
      "cell_type": "code",
      "execution_count": 21,
      "metadata": {
        "colab": {
          "base_uri": "https://localhost:8080/"
        },
        "id": "XtHz94khiX0E",
        "outputId": "378d0f57-fe60-4fa1-e222-d47be905815f"
      },
      "outputs": [
        {
          "name": "stdout",
          "output_type": "stream",
          "text": [
            "Overall Click Through Rate (CTR) : 0.3924374185825441\n"
          ]
        }
      ],
      "source": [
        "click_event = data['event'] == 'click'\n",
        "pageview_event = data['event'] == 'pageview'\n",
        "\n",
        "# Calculate the number of clicks and pageviews\n",
        "num_clicks = data[click_event]['event'].count()\n",
        "num_pageviews = data[pageview_event]['event'].count()\n",
        "\n",
        "# Calculate the CTR\n",
        "ctr = num_clicks / num_pageviews\n",
        "print('Overall Click Through Rate (CTR) :',ctr)"
      ]
    },
    {
      "cell_type": "markdown",
      "metadata": {
        "id": "myA0lnT2dwfJ"
      },
      "source": [
        "### **How does the CTR vary across different links**"
      ]
    },
    {
      "cell_type": "code",
      "execution_count": 22,
      "metadata": {
        "colab": {
          "base_uri": "https://localhost:8080/",
          "height": 363
        },
        "id": "RYxV_XeOkkaM",
        "outputId": "d65a47f0-390f-43f1-ff92-976ab0d9fe61"
      },
      "outputs": [
        {
          "data": {
            "text/html": [
              "<div>\n",
              "<style scoped>\n",
              "    .dataframe tbody tr th:only-of-type {\n",
              "        vertical-align: middle;\n",
              "    }\n",
              "\n",
              "    .dataframe tbody tr th {\n",
              "        vertical-align: top;\n",
              "    }\n",
              "\n",
              "    .dataframe thead th {\n",
              "        text-align: right;\n",
              "    }\n",
              "</style>\n",
              "<table border=\"1\" class=\"dataframe\">\n",
              "  <thead>\n",
              "    <tr style=\"text-align: right;\">\n",
              "      <th></th>\n",
              "      <th>linkid</th>\n",
              "      <th>pageview_count</th>\n",
              "      <th>click_count</th>\n",
              "      <th>ctr</th>\n",
              "    </tr>\n",
              "  </thead>\n",
              "  <tbody>\n",
              "    <tr>\n",
              "      <th>3751</th>\n",
              "      <td>fa757d7c-2ac5-4301-9fe7-890cd44a749c</td>\n",
              "      <td>3</td>\n",
              "      <td>1.0</td>\n",
              "      <td>0.333333</td>\n",
              "    </tr>\n",
              "    <tr>\n",
              "      <th>3669</th>\n",
              "      <td>f48d274a-3f55-5ab4-bfcf-3dfc2f293ffd</td>\n",
              "      <td>2</td>\n",
              "      <td>0.0</td>\n",
              "      <td>0.000000</td>\n",
              "    </tr>\n",
              "    <tr>\n",
              "      <th>1309</th>\n",
              "      <td>56ab740d-3ee1-5637-bd7b-654f9395de34</td>\n",
              "      <td>5</td>\n",
              "      <td>3.0</td>\n",
              "      <td>0.600000</td>\n",
              "    </tr>\n",
              "    <tr>\n",
              "      <th>3201</th>\n",
              "      <td>d4c61ffa-1136-4212-ad25-30145d57f39a</td>\n",
              "      <td>1</td>\n",
              "      <td>1.0</td>\n",
              "      <td>1.000000</td>\n",
              "    </tr>\n",
              "    <tr>\n",
              "      <th>2471</th>\n",
              "      <td>a12a00fe-1224-575e-bb8d-c21ce44f572c</td>\n",
              "      <td>1</td>\n",
              "      <td>0.0</td>\n",
              "      <td>0.000000</td>\n",
              "    </tr>\n",
              "    <tr>\n",
              "      <th>577</th>\n",
              "      <td>25aa52ab-7da3-5ed3-ba51-852783aaeb8d</td>\n",
              "      <td>2</td>\n",
              "      <td>0.0</td>\n",
              "      <td>0.000000</td>\n",
              "    </tr>\n",
              "    <tr>\n",
              "      <th>338</th>\n",
              "      <td>15efda84-5541-4a35-bb03-b68e0ca78dea</td>\n",
              "      <td>3</td>\n",
              "      <td>0.0</td>\n",
              "      <td>0.000000</td>\n",
              "    </tr>\n",
              "    <tr>\n",
              "      <th>3480</th>\n",
              "      <td>e8745a4b-6167-4bc3-8798-19811a1d08bf</td>\n",
              "      <td>5</td>\n",
              "      <td>3.0</td>\n",
              "      <td>0.600000</td>\n",
              "    </tr>\n",
              "    <tr>\n",
              "      <th>1350</th>\n",
              "      <td>599ee04b-d179-51f6-bfe7-6f0e3f0f30e3</td>\n",
              "      <td>1</td>\n",
              "      <td>0.0</td>\n",
              "      <td>0.000000</td>\n",
              "    </tr>\n",
              "    <tr>\n",
              "      <th>2693</th>\n",
              "      <td>b0d32ca8-5339-5352-b99d-3873bd3a246c</td>\n",
              "      <td>1</td>\n",
              "      <td>1.0</td>\n",
              "      <td>1.000000</td>\n",
              "    </tr>\n",
              "  </tbody>\n",
              "</table>\n",
              "</div>"
            ],
            "text/plain": [
              "                                    linkid  pageview_count  click_count  \\\n",
              "3751  fa757d7c-2ac5-4301-9fe7-890cd44a749c               3          1.0   \n",
              "3669  f48d274a-3f55-5ab4-bfcf-3dfc2f293ffd               2          0.0   \n",
              "1309  56ab740d-3ee1-5637-bd7b-654f9395de34               5          3.0   \n",
              "3201  d4c61ffa-1136-4212-ad25-30145d57f39a               1          1.0   \n",
              "2471  a12a00fe-1224-575e-bb8d-c21ce44f572c               1          0.0   \n",
              "577   25aa52ab-7da3-5ed3-ba51-852783aaeb8d               2          0.0   \n",
              "338   15efda84-5541-4a35-bb03-b68e0ca78dea               3          0.0   \n",
              "3480  e8745a4b-6167-4bc3-8798-19811a1d08bf               5          3.0   \n",
              "1350  599ee04b-d179-51f6-bfe7-6f0e3f0f30e3               1          0.0   \n",
              "2693  b0d32ca8-5339-5352-b99d-3873bd3a246c               1          1.0   \n",
              "\n",
              "           ctr  \n",
              "3751  0.333333  \n",
              "3669  0.000000  \n",
              "1309  0.600000  \n",
              "3201  1.000000  \n",
              "2471  0.000000  \n",
              "577   0.000000  \n",
              "338   0.000000  \n",
              "3480  0.600000  \n",
              "1350  0.000000  \n",
              "2693  1.000000  "
            ]
          },
          "execution_count": 22,
          "metadata": {},
          "output_type": "execute_result"
        }
      ],
      "source": [
        "# Filter pageview and click events\n",
        "pageview_events = data[data['event'] == 'pageview']\n",
        "click_events = data[data['event'] == 'click']\n",
        "\n",
        "# Count the number of pageviews and clicks per linkid\n",
        "pageview_count = pageview_events.groupby('linkid').size().reset_index(name='pageview_count')\n",
        "click_count = click_events.groupby('linkid').size().reset_index(name='click_count')\n",
        "\n",
        "# Merge the counts on linkid\n",
        "ctr_data = pd.merge(pageview_count, click_count, on='linkid', how='left')\n",
        "\n",
        "# Fill NaN values in click_count (if a link has pageviews but no clicks)\n",
        "ctr_data['click_count'].fillna(0, inplace=True)\n",
        "\n",
        "# Calculate CTR (Click-Through Rate)\n",
        "ctr_data['ctr'] = ctr_data['click_count'] / ctr_data['pageview_count']\n",
        "\n",
        "# Display the result\n",
        "ctr_data.sample(10)"
      ]
    },
    {
      "cell_type": "markdown",
      "metadata": {
        "id": "twpBF_73dwq6"
      },
      "source": [
        "## **5. Correlation Analysis**"
      ]
    },
    {
      "cell_type": "markdown",
      "metadata": {
        "id": "Orwl2a90dw1I"
      },
      "source": [
        "### **Is there a correlation between clicks and previews on a link? If so, is it statistically significant, and how strong is the effect?**"
      ]
    },
    {
      "cell_type": "code",
      "execution_count": 23,
      "metadata": {
        "colab": {
          "base_uri": "https://localhost:8080/"
        },
        "id": "YSfChicx0Q7h",
        "outputId": "fe2b5277-d808-4482-b7ee-e83235cd4104"
      },
      "outputs": [
        {
          "name": "stdout",
          "output_type": "stream",
          "text": [
            "Pearson Correlation: 0.994001400900393\n",
            "P-value: 0.0\n",
            "The correlation is statistically significant with the Correlation value of 0.994001400900393.\n"
          ]
        }
      ],
      "source": [
        "# Step 2: Calculate the Pearson correlation between 'pageview_count' and 'click_count'\n",
        "correlation, p_value = stats.pearsonr(ctr_data['pageview_count'], ctr_data['click_count'])\n",
        "\n",
        "# Display the results\n",
        "print(f\"Pearson Correlation: {correlation}\")\n",
        "print(f\"P-value: {p_value}\")\n",
        "\n",
        "# Interpretation of results:\n",
        "if p_value < 0.05:\n",
        "    print(f\"The correlation is statistically significant with the Correlation value of {correlation}.\")\n",
        "else:\n",
        "    print(f\"The correlation is not statistically significant with the Correlation value of {correlation}.\")"
      ]
    },
    {
      "cell_type": "markdown",
      "metadata": {
        "id": "7wovDiyH1MtG"
      },
      "source": [
        "- The correlation coefficient indicates a positive relationship between clicks and pageviews.\n",
        "- The correlation is relatively strong, suggesting that links with more pageviews tend to have more clicks."
      ]
    },
    {
      "cell_type": "markdown",
      "metadata": {
        "id": "_NGfbqh6dw-l"
      },
      "source": [
        "### **Perform tests for both potential linear relationships and categorical (binary) relationships between these variables.**"
      ]
    },
    {
      "cell_type": "code",
      "execution_count": 24,
      "metadata": {
        "colab": {
          "base_uri": "https://localhost:8080/",
          "height": 472
        },
        "id": "5WXEXUs24ejY",
        "outputId": "78f34ff7-0a78-4cee-95cd-b4ffde247d1c"
      },
      "outputs": [
        {
          "data": {
            "image/png": "[encoded data removed]",
            "text/plain": [
              "<Figure size 640x480 with 1 Axes>"
            ]
          },
          "metadata": {},
          "output_type": "display_data"
        }
      ],
      "source": [
        "from sklearn.linear_model import LinearRegression\n",
        "\n",
        "# Scatter plot\n",
        "plt.scatter(ctr_data['pageview_count'], ctr_data['click_count'], color='blue', label='Data Points', alpha= 0.4)\n",
        "\n",
        "# Fit a linear regression model\n",
        "X = ctr_data['pageview_count'].values.reshape(-1, 1)  # Reshape for sklearn\n",
        "y = ctr_data['click_count'].values\n",
        "model = LinearRegression()\n",
        "model.fit(X, y)\n",
        "\n",
        "# Plot the trendline\n",
        "trendline = model.predict(X)\n",
        "plt.plot(ctr_data['pageview_count'], trendline, color='red', label='Trendline')\n",
        "\n",
        "# Set axis limits to zoom in\n",
        "plt.xlim(0, 100)\n",
        "plt.ylim(0, 40)\n",
        "\n",
        "# Labels and title\n",
        "plt.xlabel('Pageviews')\n",
        "plt.ylabel('Clicks')\n",
        "plt.title('Scatter Plot of Clicks vs. Pageviews with Trendline')\n",
        "plt.legend()\n",
        "\n",
        "# Show the plot\n",
        "plt.show()"
      ]
    },
    {
      "cell_type": "code",
      "execution_count": 25,
      "metadata": {
        "colab": {
          "base_uri": "https://localhost:8080/",
          "height": 335
        },
        "id": "GTtgz9js50x7",
        "outputId": "02c48df7-fefa-4d89-b59f-83bc2b5fbd16"
      },
      "outputs": [
        {
          "data": {
            "text/plain": [
              "count    3837.000000\n",
              "mean       14.524368\n",
              "std       178.183502\n",
              "min         0.000000\n",
              "25%         0.000000\n",
              "50%         1.000000\n",
              "75%         1.000000\n",
              "max      9692.000000\n",
              "Name: click_count, dtype: float64"
            ]
          },
          "execution_count": 25,
          "metadata": {},
          "output_type": "execute_result"
        }
      ],
      "source": [
        "ctr_data['click_count'].describe()"
      ]
    },
    {
      "cell_type": "code",
      "execution_count": 26,
      "metadata": {
        "colab": {
          "base_uri": "https://localhost:8080/",
          "height": 490
        },
        "id": "ZS8nplpA5JNV",
        "outputId": "0b36d8eb-86ea-43de-8164-399a9a758abb"
      },
      "outputs": [
        {
          "data": {
            "text/plain": [
              "Text(0.5, 1.0, 'Distribution of Clicks Counts')"
            ]
          },
          "execution_count": 26,
          "metadata": {},
          "output_type": "execute_result"
        },
        {
          "data": {
            "image/png": "[encoded data removed]",
            "text/plain": [
              "<Figure size 640x480 with 1 Axes>"
            ]
          },
          "metadata": {},
          "output_type": "display_data"
        }
      ],
      "source": [
        "plt.hist(ctr_data['click_count'], bins=100, color='blue', alpha=0.7, label='Clicks')\n",
        "plt.xlabel('Clicks')\n",
        "plt.ylabel('Frequency')\n",
        "plt.title('Distribution of Clicks Counts')"
      ]
    },
    {
      "cell_type": "code",
      "execution_count": 27,
      "metadata": {
        "colab": {
          "base_uri": "https://localhost:8080/"
        },
        "id": "SvQrPIle2y1w",
        "outputId": "eb9514ba-1d5b-4d54-a796-b8d5bfe2db02"
      },
      "outputs": [
        {
          "name": "stdout",
          "output_type": "stream",
          "text": [
            "Logistic Regression Accuracy: 0.9088541666666666\n"
          ]
        }
      ],
      "source": [
        "from sklearn.linear_model import LogisticRegression\n",
        "from sklearn.metrics import accuracy_score\n",
        "from sklearn.model_selection import train_test_split\n",
        "\n",
        "# Create a binary variable (1 if clicks > 1, else 0)\n",
        "ctr_data['click_binary'] = (ctr_data['click_count'] > 1).astype(int)\n",
        "\n",
        "# Train-test split\n",
        "X_train, X_test, y_train, y_test = train_test_split(ctr_data['pageview_count'], ctr_data['click_binary'], test_size=0.2, random_state=42)\n",
        "\n",
        "# Reshape X_train and X_test to be 2D arrays\n",
        "X_train = X_train.values.reshape(-1, 1)\n",
        "X_test = X_test.values.reshape(-1, 1)\n",
        "\n",
        "# Logistic regression model\n",
        "logistic_model = LogisticRegression()\n",
        "logistic_model.fit(X_train, y_train)\n",
        "\n",
        "# Predictions and accuracy\n",
        "y_pred = logistic_model.predict(X_test)\n",
        "accuracy = accuracy_score(y_test, y_pred)\n",
        "print(f\"Logistic Regression Accuracy: {accuracy}\")"
      ]
    },
    {
      "cell_type": "code",
      "execution_count": null,
      "metadata": {
        "id": "EwzhmgUs29oe"
      },
      "outputs": [],
      "source": []
    }
  ],
  "metadata": {
    "colab": {
      "collapsed_sections": [
        "ZZ6G-xlVcg8m",
        "b8EcYARKdQnR",
        "1NFEq77MdQ7U"
      ],
      "provenance": []
    },
    "kernelspec": {
      "display_name": "Python 3",
      "name": "python3"
    },
    "language_info": {
      "codemirror_mode": {
        "name": "ipython",
        "version": 3
      },
      "file_extension": ".py",
      "mimetype": "text/x-python",
      "name": "python",
      "nbconvert_exporter": "python",
      "pygments_lexer": "ipython3",
      "version": "3.9.16"
    }
  },
  "nbformat": 4,
  "nbformat_minor": 0
}
